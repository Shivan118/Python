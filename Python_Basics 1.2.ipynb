{
  "nbformat": 4,
  "nbformat_minor": 0,
  "metadata": {
    "kernelspec": {
      "display_name": "Python 3",
      "language": "python",
      "name": "python3"
    },
    "language_info": {
      "codemirror_mode": {
        "name": "ipython",
        "version": 3
      },
      "file_extension": ".py",
      "mimetype": "text/x-python",
      "name": "python",
      "nbconvert_exporter": "python",
      "pygments_lexer": "ipython3",
      "version": "3.7.1"
    },
    "colab": {
      "name": "Python 1.1 - Python Basics.ipynb",
      "provenance": []
    }
  },
  "cells": [
    {
      "cell_type": "markdown",
      "metadata": {
        "id": "pIWo-moUZxLA",
        "colab_type": "text"
      },
      "source": [
        "## Introduction"
      ]
    },
    {
      "cell_type": "markdown",
      "metadata": {
        "id": "XULZDQtnZxLG",
        "colab_type": "text"
      },
      "source": [
        "Python is an interpreted, object-oriented, high-level programming language with dynamic semantics. Its high-level built in data structures, combined with dynamic typing and dynamic binding, make it very attractive for Rapid Application Development, as well as for use as a scripting or glue language to connect existing components together. Python's simple, easy to learn syntax emphasizes readability and therefore reduces the cost of program maintenance. Python supports modules and packages, which encourages program modularity and code reuse. The Python interpreter and the extensive standard library are available in source or binary form without charge for all major platforms, and can be freely distributed."
      ]
    },
    {
      "cell_type": "markdown",
      "metadata": {
        "id": "eM7SyAY2ZxLI",
        "colab_type": "text"
      },
      "source": [
        "erwtsdfpkewrijfjiopjgpoisgsf\n",
        "sdfgodgfjdfg\n",
        "fgdflgjdfg\n",
        "gdfkgjhdfkgd\n",
        "kbdfg\n",
        "dgdflkghdfg\n",
        "gdfjhg"
      ]
    },
    {
      "cell_type": "code",
      "metadata": {
        "id": "ogHdgoNyZxLK",
        "colab_type": "code",
        "colab": {}
      },
      "source": [
        ""
      ],
      "execution_count": 0,
      "outputs": []
    },
    {
      "cell_type": "markdown",
      "metadata": {
        "id": "L9ZMcNjhZxLX",
        "colab_type": "text"
      },
      "source": [
        "Python is a great general-purpose programming language on its own, but with the help of a few popular libraries (numpy, scipy, matplotlib) it becomes a powerful environment for scientific computing."
      ]
    },
    {
      "cell_type": "markdown",
      "metadata": {
        "id": "3QPJ5PFOZxLZ",
        "colab_type": "text"
      },
      "source": [
        "## Python Version\n",
        "### Python 2\n",
        "Published in late 2000, Python 2 signalled a more transparent and inclusive language development process than earlier versions of Python with the implementation of PEP (Python Enhancement Proposal), a technical specification that either provides information to Python community members or describes a new feature of the language.\n",
        "\n",
        "Additionally, Python 2 included many more programmatic features including a cycle-detecting garbage collector to automate memory management, increased Unicode support to standardize characters, and list comprehensions to create a list based on existing lists. As Python 2 continued to develop, more features were added, including unifying Python’s types and classes into one hierarchy in Python version 2.2.\n",
        "\n",
        "\n",
        "### Python 3\n",
        "\n",
        "Python 3 is regarded as the future of Python and is the version of the language that is currently in development. A major overhaul, Python 3 was released in late 2008 to address and amend intrinsic design flaws of previous versions of the language. The focus of Python 3 development was to clean up the codebase and remove redundancy, making it clear that there was only one way to perform a given task.\n",
        "\n",
        "Major modifications to Python 3.0 included changing the print statement into a built-in function, improve the way integers are divided, and providing more Unicode support.\n",
        "\n",
        "At first, Python 3 was slowly adopted due to the language not being backwards compatible with Python 2, requiring people to make a decision as to which version of the language to use. Additionally, many package libraries were only available for Python 2, but as the development team behind Python 3 has reiterated that there is an end of life for Python 2 support, more libraries have been ported to Python 3. The increased adoption of Python 3 can be shown by the number of Python packages that now provide Python 3 support, which at the time of writing includes 339 of the 360 most popular Python packages.\n",
        "\n",
        "### Python 2.7\n",
        "\n",
        "Following the 2008 release of Python 3.0, Python 2.7 was published on July 3, 2010 and planned as the last of the 2.x releases. The intention behind Python 2.7 was to make it easier for Python 2.x users to port features over to Python 3 by providing some measure of compatibility between the two. This compatibility support included enhanced modules for version 2.7 like unittest to support test automation, argparse for parsing command-line options, and more convenient classes in collections.\n",
        "\n",
        "Because of Python 2.7’s unique position as a version in between the earlier iterations of Python 2 and Python 3.0, it has persisted as a very popular choice for programmers due to its compatibility with many robust libraries. When we talk about Python 2 today, we are typically referring to the Python 2.7 release as that is the most frequently used version.\n",
        "\n",
        "Python 2.7, however, is considered to be a legacy language and its continued development, which today mostly consists of bug fixes, will cease completely in 2020.\n",
        "\n",
        "### Key Differences\n",
        "While Python 2.7 and Python 3 share many similar capabilities, they should not be thought of as entirely interchangeable. Though you can write good code and useful programs in either version, it is worth understanding that there will be some considerable differences in code syntax and handling.\n",
        "\n"
      ]
    },
    {
      "cell_type": "markdown",
      "metadata": {
        "collapsed": true,
        "id": "Gr8Ak1A2ZxLa",
        "colab_type": "text"
      },
      "source": [
        "## Anaconda Python Distribution\n",
        "Anaconda is an open-source package manager, environment manager, and distribution of the Python and R programming languages. It is commonly used for large-scale data processing, scientific computing, and predictive analytics, serving data scientists, developers, business analysts, and those working in DevOps.\n",
        "\n",
        "Anaconda offers a collection of over 720 open-source packages, and is available in both free and paid versions. The Anaconda distribution ships with the conda command-line utility. You can learn more about Anaconda and conda by reading the Anaconda Documentation pages."
      ]
    },
    {
      "cell_type": "markdown",
      "metadata": {
        "id": "Y2AMDkkOZxLd",
        "colab_type": "text"
      },
      "source": [
        "### Why Anaconda?\n",
        "* User level install of the version of python you want\n",
        "* Able to install/update packages completely independent of system libraries or admin privileges\n",
        "* conda tool installs binary packages, rather than requiring compile resources like pip - again, handy if you have limited privileges for installing necessary libraries.\n",
        "* More or less eliminates the headaches of trying to figure out which version/release of package X is compatible with which version/release of package Y, both of which are required for the install of package Z\n",
        "* Comes either in full-meal-deal version, with numpy, scipy, PyQt, spyder IDE, etc. or in minimal / alacarte version (miniconda) where you can install what you want, when you need it\n",
        "* No risk of messing up required system libraries"
      ]
    },
    {
      "cell_type": "markdown",
      "metadata": {
        "id": "z6Y5wRsbZxLq",
        "colab_type": "text"
      },
      "source": [
        "## What are Jupyter notebook?"
      ]
    },
    {
      "cell_type": "markdown",
      "metadata": {
        "id": "MTNyUf0uZxLy",
        "colab_type": "text"
      },
      "source": [
        "The notebook is a web application that allows you to combine explanatory text, math equations, code, and visualizations all in one easily sharable document.\n",
        "\n",
        "Notebooks have quickly become an essential tool when working with data. You'll find them being used for data cleaning and exploration, visualization, machine learning, and big data analysis. Typically you'd be doing this work in a terminal, either the normal Python shell or with IPython. Your visualizations would be in separate windows, any documentation would be in separate documents, along with various scripts for functions and classes. However, with notebooks, all of these are in one place and easily read together.\n",
        "\n",
        "Notebooks are also rendered automatically on GitHub. It’s a great feature that lets you easily share your work. There is also [http://nbviewer.jupyter.org/](http://nbviewer.jupyter.org/) that renders the notebooks from your GitHub repo or from notebooks stored elsewhere.\n",
        "\n"
      ]
    },
    {
      "cell_type": "code",
      "metadata": {
        "scrolled": true,
        "id": "fBWSqib0ZxNY",
        "colab_type": "code",
        "colab": {
          "base_uri": "https://localhost:8080/",
          "height": 34
        },
        "outputId": "769b5081-6869-4d03-87b5-f62df86e957f"
      },
      "source": [
        "# integers\n",
        "a = 7\n",
        "print(\"fggdgsgd\" + str(a))"
      ],
      "execution_count": 1,
      "outputs": [
        {
          "output_type": "stream",
          "text": [
            "fggdgsgd7\n"
          ],
          "name": "stdout"
        }
      ]
    },
    {
      "cell_type": "markdown",
      "metadata": {
        "id": "Ta0Z4XFeZxNh",
        "colab_type": "text"
      },
      "source": [
        "### Floats\n",
        "\n",
        "Float literals can be created by adding a decimal component to a number."
      ]
    },
    {
      "cell_type": "code",
      "metadata": {
        "id": "Az39_C5IZxNl",
        "colab_type": "code",
        "colab": {
          "base_uri": "https://localhost:8080/",
          "height": 34
        },
        "outputId": "72eec524-2ca4-4e13-c352-4804d64cc39e"
      },
      "source": [
        "# float\n",
        "x = 1\n",
        "type(x)"
      ],
      "execution_count": 2,
      "outputs": [
        {
          "output_type": "execute_result",
          "data": {
            "text/plain": [
              "int"
            ]
          },
          "metadata": {
            "tags": []
          },
          "execution_count": 2
        }
      ]
    },
    {
      "cell_type": "markdown",
      "metadata": {
        "id": "P0tdNHW4ZxNu",
        "colab_type": "text"
      },
      "source": [
        "### Boolean\n",
        "\n",
        "Boolean can be defined by typing True/False without quotes"
      ]
    },
    {
      "cell_type": "code",
      "metadata": {
        "id": "vWHTh8QJZxNw",
        "colab_type": "code",
        "colab": {
          "base_uri": "https://localhost:8080/",
          "height": 34
        },
        "outputId": "5e7feaf8-11db-41d1-d2ff-8754a5c9cfe9"
      },
      "source": [
        "# boolean\n",
        "b1 = True\n",
        "b2 = False\n",
        "\n",
        "type(b1)"
      ],
      "execution_count": 3,
      "outputs": [
        {
          "output_type": "execute_result",
          "data": {
            "text/plain": [
              "bool"
            ]
          },
          "metadata": {
            "tags": []
          },
          "execution_count": 3
        }
      ]
    },
    {
      "cell_type": "markdown",
      "metadata": {
        "id": "RdFZ04qnZxOB",
        "colab_type": "text"
      },
      "source": [
        "### Strings\n",
        "\n",
        "String literals can be defined with any of single quotes ('), double quotes (\") or triple quotes (''' or \"\"\"). All give the same result with two important differences.\n",
        "\n",
        "If you quote with single quotes, you do not have to escape double quotes and vice-versa.\n",
        "If you quote with triple quotes, your string can span multiple lines."
      ]
    },
    {
      "cell_type": "code",
      "metadata": {
        "id": "Q427wPs9ZxOD",
        "colab_type": "code",
        "colab": {
          "base_uri": "https://localhost:8080/",
          "height": 34
        },
        "outputId": "4210a850-0183-4e8a-f6cd-b92d066d1624"
      },
      "source": [
        "# string\n",
        "name1 = 'your name vvgafdasfasfasfa'\n",
        "type(name1)\n",
        "name1"
      ],
      "execution_count": 5,
      "outputs": [
        {
          "output_type": "execute_result",
          "data": {
            "text/plain": [
              "'your name vvgafdasfasfasfa'"
            ]
          },
          "metadata": {
            "tags": []
          },
          "execution_count": 5
        }
      ]
    },
    {
      "cell_type": "markdown",
      "metadata": {
        "id": "8UWk5B_YZxOP",
        "colab_type": "text"
      },
      "source": [
        "### Complex\n",
        "\n",
        "Complex literals can be created by using the notation x + yj where x is the real component and y is the imaginary component."
      ]
    },
    {
      "cell_type": "code",
      "metadata": {
        "id": "zMwpKVXWZxOQ",
        "colab_type": "code",
        "colab": {
          "base_uri": "https://localhost:8080/",
          "height": 34
        },
        "outputId": "974a3fe8-2e99-4a07-bfdf-0db0d7b64200"
      },
      "source": [
        "#complex numbers: note the use of `j` to specify the imaginary part\n",
        "\n",
        "\n",
        "j = 1.0 - 2.0j\n",
        "\n",
        "j\n"
      ],
      "execution_count": 6,
      "outputs": [
        {
          "output_type": "execute_result",
          "data": {
            "text/plain": [
              "(1-2j)"
            ]
          },
          "metadata": {
            "tags": []
          },
          "execution_count": 6
        }
      ]
    },
    {
      "cell_type": "code",
      "metadata": {
        "scrolled": true,
        "id": "R12md63XZxOb",
        "colab_type": "code",
        "colab": {
          "base_uri": "https://localhost:8080/",
          "height": 34
        },
        "outputId": "36c107a5-26f7-4792-abf9-f3a8b073e45b"
      },
      "source": [
        "x"
      ],
      "execution_count": 7,
      "outputs": [
        {
          "output_type": "execute_result",
          "data": {
            "text/plain": [
              "1"
            ]
          },
          "metadata": {
            "tags": []
          },
          "execution_count": 7
        }
      ]
    },
    {
      "cell_type": "code",
      "metadata": {
        "scrolled": true,
        "id": "H8tefWqTZxOh",
        "colab_type": "code",
        "colab": {
          "base_uri": "https://localhost:8080/",
          "height": 34
        },
        "outputId": "e92bceca-04f3-4434-f9e6-aea76831f5c3"
      },
      "source": [
        "print(x.real, x.imag)"
      ],
      "execution_count": 8,
      "outputs": [
        {
          "output_type": "stream",
          "text": [
            "1 0\n"
          ],
          "name": "stdout"
        }
      ]
    },
    {
      "cell_type": "markdown",
      "metadata": {
        "id": "N9XloLPiZxOq",
        "colab_type": "text"
      },
      "source": [
        "### Variables\n",
        "\n",
        "#### Definining\n",
        "\n",
        "A variable in Python is defined through assignment. There is no concept of declaring a variable outside of that assignment."
      ]
    },
    {
      "cell_type": "code",
      "metadata": {
        "id": "zntCl13cZxOu",
        "colab_type": "code",
        "colab": {
          "base_uri": "https://localhost:8080/",
          "height": 34
        },
        "outputId": "cfad254b-8611-4bc5-c117-f81dc02d407d"
      },
      "source": [
        "tenth = 10\n",
        "tenth"
      ],
      "execution_count": 9,
      "outputs": [
        {
          "output_type": "execute_result",
          "data": {
            "text/plain": [
              "10"
            ]
          },
          "metadata": {
            "tags": []
          },
          "execution_count": 9
        }
      ]
    },
    {
      "cell_type": "markdown",
      "metadata": {
        "id": "ILkpD031ZxO2",
        "colab_type": "text"
      },
      "source": [
        "#### Dynamic Typing\n",
        "\n",
        "In Python, while the value that a variable points to has a type, the variable itself has no strict type in its definition. You can re-use the same variable to point to an object of a different type. It may be helpful to think of variables as \"labels\" associated with objects."
      ]
    },
    {
      "cell_type": "code",
      "metadata": {
        "id": "QDTN_pwIZxO5",
        "colab_type": "code",
        "colab": {
          "base_uri": "https://localhost:8080/",
          "height": 34
        },
        "outputId": "34980772-e19d-4347-e384-479c722df462"
      },
      "source": [
        "ten = 10\n",
        "ten"
      ],
      "execution_count": 10,
      "outputs": [
        {
          "output_type": "execute_result",
          "data": {
            "text/plain": [
              "10"
            ]
          },
          "metadata": {
            "tags": []
          },
          "execution_count": 10
        }
      ]
    },
    {
      "cell_type": "code",
      "metadata": {
        "id": "osVEZD1oZxPC",
        "colab_type": "code",
        "colab": {
          "base_uri": "https://localhost:8080/",
          "height": 34
        },
        "outputId": "fdfc6671-1d75-428c-aa87-1eade494c839"
      },
      "source": [
        "ten = 'ten'\n",
        "ten"
      ],
      "execution_count": 11,
      "outputs": [
        {
          "output_type": "execute_result",
          "data": {
            "text/plain": [
              "'ten'"
            ]
          },
          "metadata": {
            "tags": []
          },
          "execution_count": 11
        }
      ]
    },
    {
      "cell_type": "markdown",
      "metadata": {
        "id": "Qv676x1DZxPj",
        "colab_type": "text"
      },
      "source": [
        "#### Strong Typing\n",
        "\n",
        "While Python allows you to be very flexible with your types, you must still be aware of what those types are. Certain operations will require certain types as arguments."
      ]
    },
    {
      "cell_type": "code",
      "metadata": {
        "id": "83a8Nxy5ZxPk",
        "colab_type": "code",
        "colab": {
          "base_uri": "https://localhost:8080/",
          "height": 34
        },
        "outputId": "02f270e7-4b78-4e5d-9ff4-c7f7ba8638cd"
      },
      "source": [
        "'Day ' +str(1)"
      ],
      "execution_count": 12,
      "outputs": [
        {
          "output_type": "execute_result",
          "data": {
            "text/plain": [
              "'Day 1'"
            ]
          },
          "metadata": {
            "tags": []
          },
          "execution_count": 12
        }
      ]
    },
    {
      "cell_type": "markdown",
      "metadata": {
        "id": "p6HBF_SHZxPy",
        "colab_type": "text"
      },
      "source": [
        "This behavior is different from some other loosely-typed languages. If you were to do the same thing in JavaScript, you would get a different result.\n",
        "\n",
        "In Python, however, it is possible to change the type of an object through builtin functions."
      ]
    },
    {
      "cell_type": "markdown",
      "metadata": {
        "id": "DMKfQifqZxPz",
        "colab_type": "text"
      },
      "source": [
        "# 'Day ' + str(1)\n",
        "\n",
        "\n",
        "and \n",
        "0 0 0\n",
        "0 1 0\n",
        "1 0 0\n",
        "1 1 1 "
      ]
    },
    {
      "cell_type": "markdown",
      "metadata": {
        "id": "LE_7UPrtZxP1",
        "colab_type": "text"
      },
      "source": [
        "## Simple Expressions\n",
        "\n",
        "### Boolean Evaluation\n",
        "\n",
        "Boolean expressions are created with the keywords and, or, not and is. For example:"
      ]
    },
    {
      "cell_type": "code",
      "metadata": {
        "id": "EYjuHzJjZxP4",
        "colab_type": "code",
        "colab": {
          "base_uri": "https://localhost:8080/",
          "height": 34
        },
        "outputId": "29b52470-45c3-4bbe-b398-b65240615bd3"
      },
      "source": [
        "True and False"
      ],
      "execution_count": 13,
      "outputs": [
        {
          "output_type": "execute_result",
          "data": {
            "text/plain": [
              "False"
            ]
          },
          "metadata": {
            "tags": []
          },
          "execution_count": 13
        }
      ]
    },
    {
      "cell_type": "code",
      "metadata": {
        "id": "VuudA8HZZxQE",
        "colab_type": "code",
        "colab": {
          "base_uri": "https://localhost:8080/",
          "height": 34
        },
        "outputId": "dd9be264-259f-47c5-eb6b-0d138a70d1bd"
      },
      "source": [
        "True or False"
      ],
      "execution_count": 14,
      "outputs": [
        {
          "output_type": "execute_result",
          "data": {
            "text/plain": [
              "True"
            ]
          },
          "metadata": {
            "tags": []
          },
          "execution_count": 14
        }
      ]
    },
    {
      "cell_type": "code",
      "metadata": {
        "id": "KXRLz6y0ZxQi",
        "colab_type": "code",
        "colab": {
          "base_uri": "https://localhost:8080/",
          "height": 34
        },
        "outputId": "3ca07b0b-24d3-4ff0-8532-9b040180b951"
      },
      "source": [
        "not True"
      ],
      "execution_count": 15,
      "outputs": [
        {
          "output_type": "execute_result",
          "data": {
            "text/plain": [
              "False"
            ]
          },
          "metadata": {
            "tags": []
          },
          "execution_count": 15
        }
      ]
    },
    {
      "cell_type": "code",
      "metadata": {
        "id": "-gOVl9QaZxQt",
        "colab_type": "code",
        "colab": {
          "base_uri": "https://localhost:8080/",
          "height": 34
        },
        "outputId": "b21890d7-e4f9-41c7-f3b2-8127f33f162e"
      },
      "source": [
        "not False"
      ],
      "execution_count": 16,
      "outputs": [
        {
          "output_type": "execute_result",
          "data": {
            "text/plain": [
              "True"
            ]
          },
          "metadata": {
            "tags": []
          },
          "execution_count": 16
        }
      ]
    },
    {
      "cell_type": "code",
      "metadata": {
        "id": "j18ZQq6AZxQ2",
        "colab_type": "code",
        "colab": {
          "base_uri": "https://localhost:8080/",
          "height": 34
        },
        "outputId": "2433aab5-2b9e-4f3c-8b73-963622cf25dc"
      },
      "source": [
        "True is True"
      ],
      "execution_count": 17,
      "outputs": [
        {
          "output_type": "execute_result",
          "data": {
            "text/plain": [
              "True"
            ]
          },
          "metadata": {
            "tags": []
          },
          "execution_count": 17
        }
      ]
    },
    {
      "cell_type": "code",
      "metadata": {
        "id": "eBCjOOJ8ZxRI",
        "colab_type": "code",
        "colab": {
          "base_uri": "https://localhost:8080/",
          "height": 34
        },
        "outputId": "a34875de-99ad-4d23-a7c0-95c92be4ebcf"
      },
      "source": [
        "True is False"
      ],
      "execution_count": 18,
      "outputs": [
        {
          "output_type": "execute_result",
          "data": {
            "text/plain": [
              "False"
            ]
          },
          "metadata": {
            "tags": []
          },
          "execution_count": 18
        }
      ]
    },
    {
      "cell_type": "code",
      "metadata": {
        "id": "QEIXp_1hZxRP",
        "colab_type": "code",
        "colab": {
          "base_uri": "https://localhost:8080/",
          "height": 34
        },
        "outputId": "a11ebdb1-0f10-4a6a-e910-91dfee9b10c6"
      },
      "source": [
        "'a' is 'a'"
      ],
      "execution_count": 19,
      "outputs": [
        {
          "output_type": "execute_result",
          "data": {
            "text/plain": [
              "True"
            ]
          },
          "metadata": {
            "tags": []
          },
          "execution_count": 19
        }
      ]
    },
    {
      "cell_type": "markdown",
      "metadata": {
        "id": "V1lt2jU0ZxRT",
        "colab_type": "text"
      },
      "source": [
        "## Branching (if / elif / else)\n",
        "\n",
        "Python provides the if statement to allow branching based on conditions. Multiple elif checks can also be performed followed by an optional else clause. The if statement can be used with any evaluation of truthiness."
      ]
    },
    {
      "cell_type": "code",
      "metadata": {
        "id": "hMNdKgftZxRV",
        "colab_type": "code",
        "colab": {
          "base_uri": "https://localhost:8080/",
          "height": 34
        },
        "outputId": "53dc358d-941c-4311-abfd-6fc4f16fc87d"
      },
      "source": [
        "print"
      ],
      "execution_count": 20,
      "outputs": [
        {
          "output_type": "execute_result",
          "data": {
            "text/plain": [
              "<function print>"
            ]
          },
          "metadata": {
            "tags": []
          },
          "execution_count": 20
        }
      ]
    },
    {
      "cell_type": "code",
      "metadata": {
        "id": "r3E_aYRAZxRb",
        "colab_type": "code",
        "colab": {
          "base_uri": "https://localhost:8080/",
          "height": 51
        },
        "outputId": "1f70d4d8-8c46-4c2d-e5e7-e9dcf1cde24b"
      },
      "source": [
        "i = 1\n",
        "if (i < 3):\n",
        "    print('less than 3')\n",
        "    if i<2:\n",
        "        print(\"Fsdfsf\")\n",
        "elif i < 5:\n",
        "    print('less than 5')\n",
        "else:\n",
        "    print('5 or more')\n"
      ],
      "execution_count": 21,
      "outputs": [
        {
          "output_type": "stream",
          "text": [
            "less than 3\n",
            "Fsdfsf\n"
          ],
          "name": "stdout"
        }
      ]
    },
    {
      "cell_type": "code",
      "metadata": {
        "id": "QeWkfMriZxRh",
        "colab_type": "code",
        "colab": {}
      },
      "source": [
        "  "
      ],
      "execution_count": 0,
      "outputs": []
    },
    {
      "cell_type": "markdown",
      "metadata": {
        "id": "e-XnZNudZxRl",
        "colab_type": "text"
      },
      "source": [
        "## Block Structure and Whitespace\n",
        "\n",
        "The code that is executed when a specific condition is met is defined in a \"block.\" In Python, the block structure is signalled by changes in indentation. Each line of code in a certain block level must be indented equally and indented more than the surrounding scope. The standard (defined in PEP-8) is to use 4 spaces for each level of block indentation. Statements preceding blocks generally end with a colon (:).\n",
        "\n",
        "Because there are no semi-colons or other end-of-line indicators in Python, breaking lines of code requires either a continuation character (\\ as the last char) or for the break to occur inside an unfinished structure (such as open parentheses).\n",
        "\n"
      ]
    },
    {
      "cell_type": "markdown",
      "metadata": {
        "id": "uLojpebGZxRn",
        "colab_type": "text"
      },
      "source": [
        "## Advanced Types: Containers\n",
        "\n",
        "One of the great advantages of Python as a programming language is the ease with which it allows you to manipulate containers. Containers (or collections) are an integral part of the language and, as you’ll see, built in to the core of the language’s syntax. As a result, thinking in a Pythonic manner means thinking about containers.\n",
        "\n",
        "### Lists\n",
        "\n",
        "The first container type that we will look at is the list. A list represents an ordered, mutable collection of objects. You can mix and match any type of object in a list, add to it and remove from it at will.\n",
        "\n",
        "Creating Empty Lists. To create an empty list, you can use empty square brackets or use the list() function with no arguments.\n",
        "\n"
      ]
    },
    {
      "cell_type": "code",
      "metadata": {
        "id": "UGor7YvOZxRt",
        "colab_type": "code",
        "colab": {
          "base_uri": "https://localhost:8080/",
          "height": 34
        },
        "outputId": "8e90c02d-fada-4d8a-e65e-49fa2095ace8"
      },
      "source": [
        "l = []\n",
        "l"
      ],
      "execution_count": 22,
      "outputs": [
        {
          "output_type": "execute_result",
          "data": {
            "text/plain": [
              "[]"
            ]
          },
          "metadata": {
            "tags": []
          },
          "execution_count": 22
        }
      ]
    },
    {
      "cell_type": "code",
      "metadata": {
        "id": "62KL-n0vZxR5",
        "colab_type": "code",
        "colab": {
          "base_uri": "https://localhost:8080/",
          "height": 34
        },
        "outputId": "d3c7d99f-276e-4019-cd7d-4567cb6a7c2c"
      },
      "source": [
        "l = list()\n",
        "l"
      ],
      "execution_count": 23,
      "outputs": [
        {
          "output_type": "execute_result",
          "data": {
            "text/plain": [
              "[]"
            ]
          },
          "metadata": {
            "tags": []
          },
          "execution_count": 23
        }
      ]
    },
    {
      "cell_type": "markdown",
      "metadata": {
        "id": "sOPHLg3nZxR-",
        "colab_type": "text"
      },
      "source": [
        "Initializing Lists. You can initialize a list with content of any sort using the same square bracket notation. The list() function also takes an iterable as a single argument and returns a shallow copy of that iterable as a new list. A list is one such iterable as we’ll see soon, and we’ll see others later."
      ]
    },
    {
      "cell_type": "code",
      "metadata": {
        "id": "7dYiMVIxZxR_",
        "colab_type": "code",
        "colab": {}
      },
      "source": [
        "l1 = [\"dsad\", 'b', 'c']\n",
        "l2 = ['a',6,4.0]"
      ],
      "execution_count": 0,
      "outputs": []
    },
    {
      "cell_type": "code",
      "metadata": {
        "id": "yqiQTp45ZxSD",
        "colab_type": "code",
        "colab": {
          "base_uri": "https://localhost:8080/",
          "height": 34
        },
        "outputId": "4b764660-7032-4c7f-cad6-ccead4a09158"
      },
      "source": [
        "\n",
        "l1  + l2 "
      ],
      "execution_count": 25,
      "outputs": [
        {
          "output_type": "execute_result",
          "data": {
            "text/plain": [
              "['dsad', 'b', 'c', 'a', 6, 4.0]"
            ]
          },
          "metadata": {
            "tags": []
          },
          "execution_count": 25
        }
      ]
    },
    {
      "cell_type": "code",
      "metadata": {
        "id": "BBYRtS6MZxSJ",
        "colab_type": "code",
        "colab": {
          "base_uri": "https://localhost:8080/",
          "height": 34
        },
        "outputId": "b04ca8f3-18ae-47da-cc98-7f68d94cd318"
      },
      "source": [
        "l"
      ],
      "execution_count": 26,
      "outputs": [
        {
          "output_type": "execute_result",
          "data": {
            "text/plain": [
              "[]"
            ]
          },
          "metadata": {
            "tags": []
          },
          "execution_count": 26
        }
      ]
    },
    {
      "cell_type": "markdown",
      "metadata": {
        "id": "QToAsUDFZxSO",
        "colab_type": "text"
      },
      "source": [
        "A Python string is also a sequence of characters and can be treated as an iterable over those characters. Combined with the list() function, a new list of the characters can easily be generated."
      ]
    },
    {
      "cell_type": "code",
      "metadata": {
        "id": "VbnPrxTuZxSQ",
        "colab_type": "code",
        "colab": {
          "base_uri": "https://localhost:8080/",
          "height": 34
        },
        "outputId": "28aa4d7c-ff65-4cbf-8d19-9bf11325b09a"
      },
      "source": [
        "l=list(\"jkdfgkdgj\")\n",
        "l"
      ],
      "execution_count": 27,
      "outputs": [
        {
          "output_type": "execute_result",
          "data": {
            "text/plain": [
              "['j', 'k', 'd', 'f', 'g', 'k', 'd', 'g', 'j']"
            ]
          },
          "metadata": {
            "tags": []
          },
          "execution_count": 27
        }
      ]
    },
    {
      "cell_type": "markdown",
      "metadata": {
        "id": "TIm9CU24ZxSU",
        "colab_type": "text"
      },
      "source": [
        "Adding. You can append to a list very easily (add to the end) or insert at an arbitrary index."
      ]
    },
    {
      "cell_type": "code",
      "metadata": {
        "id": "8Ho2hp5mZxSY",
        "colab_type": "code",
        "colab": {
          "base_uri": "https://localhost:8080/",
          "height": 34
        },
        "outputId": "dde931cc-d20d-44e3-b08f-7d8b27ee6412"
      },
      "source": [
        "l"
      ],
      "execution_count": 28,
      "outputs": [
        {
          "output_type": "execute_result",
          "data": {
            "text/plain": [
              "['j', 'k', 'd', 'f', 'g', 'k', 'd', 'g', 'j']"
            ]
          },
          "metadata": {
            "tags": []
          },
          "execution_count": 28
        }
      ]
    },
    {
      "cell_type": "markdown",
      "metadata": {
        "id": "feemafAWZxSg",
        "colab_type": "text"
      },
      "source": [
        "Iterating. Iterating over a list is very simple. All iterables in Python allow access to elements using the for ... in statement. In this structure, each element in the iterable is sequentially assigned to the \"loop variable\" for a single pass of the loop, during which the enclosed block is executed."
      ]
    },
    {
      "cell_type": "code",
      "metadata": {
        "id": "fubv7Gp5ZxSn",
        "colab_type": "code",
        "colab": {
          "base_uri": "https://localhost:8080/",
          "height": 170
        },
        "outputId": "0239ed9b-6df8-4796-a723-10a1da8e65cf"
      },
      "source": [
        "for fg in l:\n",
        "    print((fg))"
      ],
      "execution_count": 29,
      "outputs": [
        {
          "output_type": "stream",
          "text": [
            "j\n",
            "k\n",
            "d\n",
            "f\n",
            "g\n",
            "k\n",
            "d\n",
            "g\n",
            "j\n"
          ],
          "name": "stdout"
        }
      ]
    },
    {
      "cell_type": "markdown",
      "metadata": {
        "id": "XUCZ_AP-ZxSy",
        "colab_type": "text"
      },
      "source": [
        "## Loops\n",
        "\n",
        "In general, statements are executed sequentially: The first statement in a function is executed first, followed by the second, and so on. There may be a situation when you need to execute a block of code several number of times.\n",
        "\n",
        "Programming languages provide various control structures that allow for more complicated execution paths.\n",
        "\n",
        "### For loop\n",
        "\n",
        "The for loop in Python is used to iterate over a sequence (list, tuple, string) or other iterable objects. Iterating over a sequence is called traversal.\n",
        "\n",
        "Loop continues until we reach the last item in the sequence. The body of for loop is separated from the rest of the code using indentation.\n",
        "\n",
        "\n",
        "<img src=\"Images/forLoop.jpg\">"
      ]
    },
    {
      "cell_type": "code",
      "metadata": {
        "id": "O6xSLxTcZxS2",
        "colab_type": "code",
        "colab": {
          "base_uri": "https://localhost:8080/",
          "height": 34
        },
        "outputId": "59972c64-f152-474f-a10a-2d84a1bf9288"
      },
      "source": [
        "# Program to find the sum of all numbers stored in a list\n",
        "\n",
        "# List of numbers\n",
        "numbers = [\"Fsdfsf\",\"fsdfs\",\"sdffsfs\"]\n",
        "\n",
        "# variable to store the sum\n",
        "summ=''\n",
        "\n",
        "# iterate over the list\n",
        "for x in numbers:\n",
        "    summ = summ+x\n",
        "\n",
        "# Output: The sum is 48\n",
        "print(summ)"
      ],
      "execution_count": 30,
      "outputs": [
        {
          "output_type": "stream",
          "text": [
            "Fsdfsffsdfssdffsfs\n"
          ],
          "name": "stdout"
        }
      ]
    },
    {
      "cell_type": "markdown",
      "metadata": {
        "id": "2E5O2C57ZxS8",
        "colab_type": "text"
      },
      "source": [
        "### for loop with else\n",
        "A for loop can have an optional else block as well. The else part is executed if the items in the sequence used in for loop exhausts.\n",
        "\n",
        "break statement can be used to stop a for loop. In such case, the else part is ignored.\n",
        "\n",
        "Hence, a for loop's else part runs if no break occurs.\n",
        "\n",
        "Here is an example to illustrate this."
      ]
    },
    {
      "cell_type": "code",
      "metadata": {
        "id": "2-NKIWleZxTA",
        "colab_type": "code",
        "colab": {
          "base_uri": "https://localhost:8080/",
          "height": 34
        },
        "outputId": "f613374c-2346-4db2-e31d-32194aaedb6b"
      },
      "source": [
        "digits = [0, 1, 5]\n",
        "\n",
        "for sfdsf in [0,1,2,3]:\n",
        "    if sfdsf == 3:\n",
        "        break\n",
        "else:\n",
        "    print(\"No items left.\")\n",
        "print(\"Fsdfsfsf\")"
      ],
      "execution_count": 31,
      "outputs": [
        {
          "output_type": "stream",
          "text": [
            "Fsdfsfsf\n"
          ],
          "name": "stdout"
        }
      ]
    },
    {
      "cell_type": "markdown",
      "metadata": {
        "id": "LHgLmrwzZxTE",
        "colab_type": "text"
      },
      "source": [
        "## While loop\n",
        "\n",
        "The while loop in Python is used to iterate over a block of code as long as the test expression (condition) is true.\n",
        "\n",
        "We generally use this loop when we don't know beforehand, the number of times to iterate.\n",
        "\n",
        "In while loop, test expression is checked first. The body of the loop is entered only if the test_expression evaluates to True. After one iteration, the test expression is checked again. This process continues until the test_expression evaluates to False.\n",
        "\n",
        "In Python, the body of the while loop is determined through indentation.\n",
        "\n",
        "Body starts with indentation and the first unindented line marks the end.\n",
        "\n",
        "Python interprets any non-zero value as True. None and 0 are interpreted as False.\n",
        "\n",
        "<img src=\"Images/whileLoopFlowchart.jpg\">\n"
      ]
    },
    {
      "cell_type": "code",
      "metadata": {
        "id": "2PQV2r2oZxTG",
        "colab_type": "code",
        "colab": {
          "base_uri": "https://localhost:8080/",
          "height": 34
        },
        "outputId": "a062a5ee-7428-42de-ec50-e724333ef100"
      },
      "source": [
        "# Program to add natural\n",
        "# numbers upto \n",
        "# sum = 1+2+3+...+n\n",
        "\n",
        "# To take input from the user,\n",
        "# n = int(input(\"Enter n: \"))\n",
        "\n",
        "n = 10\n",
        "\n",
        "# initialize sum and counter\n",
        "sum = 0\n",
        "i = 1\n",
        "\n",
        "while i <= n:\n",
        "    sum = sum + i\n",
        "    i = i+1    # update counter\n",
        "\n",
        "# print the sum\n",
        "print(\"The sum is\", sum)"
      ],
      "execution_count": 32,
      "outputs": [
        {
          "output_type": "stream",
          "text": [
            "The sum is 55\n"
          ],
          "name": "stdout"
        }
      ]
    },
    {
      "cell_type": "markdown",
      "metadata": {
        "id": "S7GuW8GeZxTL",
        "colab_type": "text"
      },
      "source": [
        "## The range() function\n",
        "We can generate a sequence of numbers using range() function. range(10) will generate numbers from 0 to 9 (10 numbers).\n",
        "\n",
        "We can also define the start, stop and step size as range(start,stop,step size). step size defaults to 1 if not provided.\n",
        "\n",
        "This function does not store all the values in memory, it would be inefficient. So it remembers the start, stop, step size and generates the next number on the go.\n",
        "\n",
        "To force this function to output all the items, we can use the function list().\n",
        "\n",
        "The following example will clarify this."
      ]
    },
    {
      "cell_type": "code",
      "metadata": {
        "id": "zRIH0tWtZxTM",
        "colab_type": "code",
        "colab": {
          "base_uri": "https://localhost:8080/",
          "height": 34
        },
        "outputId": "8eedf4f1-ba16-43bf-e337-97724253a566"
      },
      "source": [
        "range(6)"
      ],
      "execution_count": 33,
      "outputs": [
        {
          "output_type": "execute_result",
          "data": {
            "text/plain": [
              "range(0, 6)"
            ]
          },
          "metadata": {
            "tags": []
          },
          "execution_count": 33
        }
      ]
    },
    {
      "cell_type": "code",
      "metadata": {
        "id": "n12lIDxLZxTP",
        "colab_type": "code",
        "colab": {
          "base_uri": "https://localhost:8080/",
          "height": 34
        },
        "outputId": "4687ddc6-bf93-46b3-bd08-87eb616fdc2a"
      },
      "source": [
        "list(range(10))"
      ],
      "execution_count": 34,
      "outputs": [
        {
          "output_type": "execute_result",
          "data": {
            "text/plain": [
              "[0, 1, 2, 3, 4, 5, 6, 7, 8, 9]"
            ]
          },
          "metadata": {
            "tags": []
          },
          "execution_count": 34
        }
      ]
    },
    {
      "cell_type": "code",
      "metadata": {
        "id": "CaWsPkXoZxTU",
        "colab_type": "code",
        "colab": {
          "base_uri": "https://localhost:8080/",
          "height": 34
        },
        "outputId": "c168ae7f-7d97-41ca-df6d-eca9003c5740"
      },
      "source": [
        "print(list(range(8, 2,-2)))"
      ],
      "execution_count": 35,
      "outputs": [
        {
          "output_type": "stream",
          "text": [
            "[8, 6, 4]\n"
          ],
          "name": "stdout"
        }
      ]
    },
    {
      "cell_type": "code",
      "metadata": {
        "id": "Ko8P6aQyZxTY",
        "colab_type": "code",
        "colab": {
          "base_uri": "https://localhost:8080/",
          "height": 34
        },
        "outputId": "41698ce6-a5cd-4b38-8560-4edb0917cb6b"
      },
      "source": [
        "print(list(range(2, 20, 5)))"
      ],
      "execution_count": 36,
      "outputs": [
        {
          "output_type": "stream",
          "text": [
            "[2, 7, 12, 17]\n"
          ],
          "name": "stdout"
        }
      ]
    },
    {
      "cell_type": "markdown",
      "metadata": {
        "id": "bOQ0Xv1lZxTn",
        "colab_type": "text"
      },
      "source": [
        "We can use the range() function in for loops to iterate through a sequence of numbers. It can be combined with the len() function to iterate though a sequence using indexing. Here is an example."
      ]
    },
    {
      "cell_type": "code",
      "metadata": {
        "id": "NFe7K9gDZxTo",
        "colab_type": "code",
        "colab": {
          "base_uri": "https://localhost:8080/",
          "height": 51
        },
        "outputId": "619c1338-88fc-4e1e-814c-2f0d2ddbc3dd"
      },
      "source": [
        "# Program to iterate through a list using indexing\n",
        "\n",
        "genre = ['pop', 'rock', 'jazz','sapna']\n",
        "\n",
        "# iterate over the list using index\n",
        "for i in range(len(genre)-1,0,-2):\n",
        "    print(\"I like\", genre[i])"
      ],
      "execution_count": 40,
      "outputs": [
        {
          "output_type": "stream",
          "text": [
            "I like sapna\n",
            "I like rock\n"
          ],
          "name": "stdout"
        }
      ]
    },
    {
      "cell_type": "markdown",
      "metadata": {
        "id": "29o_T8g-ZxT5",
        "colab_type": "text"
      },
      "source": [
        "## break and continue statement\n",
        "\n",
        "In Python, break and continue statements can alter the flow of a normal loop.\n",
        "\n",
        "Loops iterate over a block of code until test expression is false, but sometimes we wish to terminate the current iteration or even the whole loop without cheking test expression.\n",
        "\n",
        "The break and continue statements are used in these cases.\n",
        "\n",
        "### break\n",
        "The break statement terminates the loop containing it. Control of the program flows to the statement immediately after the body of the loop.\n",
        "\n",
        "If break statement is inside a nested loop (loop inside another loop), break will terminate the innermost loop.\n",
        "\n",
        "\n",
        "\n",
        "<img src=\"Images/flowchart-break-statement.jpg\">"
      ]
    },
    {
      "cell_type": "code",
      "metadata": {
        "id": "OyInopyWZxT8",
        "colab_type": "code",
        "colab": {
          "base_uri": "https://localhost:8080/",
          "height": 85
        },
        "outputId": "fb108523-10a3-48c4-db7d-cbab82ba661b"
      },
      "source": [
        "# Use of break statement inside loop\n",
        "\n",
        "for val in \"string\":\n",
        "    if val == \"i\":\n",
        "        break\n",
        "    print(val)\n",
        "\n",
        "print(\"The end\")"
      ],
      "execution_count": 41,
      "outputs": [
        {
          "output_type": "stream",
          "text": [
            "s\n",
            "t\n",
            "r\n",
            "The end\n"
          ],
          "name": "stdout"
        }
      ]
    },
    {
      "cell_type": "markdown",
      "metadata": {
        "id": "Z99LMY-gZxUB",
        "colab_type": "text"
      },
      "source": [
        "In this program, we iterate through the \"string\" sequence. We check if the letter is \"i\", upon which we break from the loop. Hence, we see in our output that all the letters up till \"i\" gets printed. After that, the loop terminates."
      ]
    },
    {
      "cell_type": "markdown",
      "metadata": {
        "id": "8-078WIoZxUC",
        "colab_type": "text"
      },
      "source": [
        "### continue\n",
        "The continue statement is used to skip the rest of the code inside a loop for the current iteration only. Loop does not terminate but continues on with the next iteration.\n",
        "\n",
        "<img src=\"Images/continue-statement-flowchart.jpg\">"
      ]
    },
    {
      "cell_type": "code",
      "metadata": {
        "id": "pTufu8yNZxUE",
        "colab_type": "code",
        "colab": {
          "base_uri": "https://localhost:8080/",
          "height": 119
        },
        "outputId": "0f406002-de95-4809-f7e7-0f517aba999a"
      },
      "source": [
        "# Program to show the use of continue statement inside loops\n",
        "\n",
        "for val in \"string\":\n",
        "    if val == \"i\":\n",
        "        continue\n",
        "    print(val)\n",
        "\n",
        "print(\"The end\")"
      ],
      "execution_count": 42,
      "outputs": [
        {
          "output_type": "stream",
          "text": [
            "s\n",
            "t\n",
            "r\n",
            "n\n",
            "g\n",
            "The end\n"
          ],
          "name": "stdout"
        }
      ]
    },
    {
      "cell_type": "markdown",
      "metadata": {
        "id": "R-hSbW_vZxUI",
        "colab_type": "text"
      },
      "source": [
        "This program is same as the above example except the break statement has been replaced with continue.\n",
        "\n",
        "We continue with the loop, if the string is \"i\", not executing the rest of the block. Hence, we see in our output that all the letters except \"i\" gets printed."
      ]
    },
    {
      "cell_type": "markdown",
      "metadata": {
        "collapsed": true,
        "id": "reSMX8tFZxUK",
        "colab_type": "text"
      },
      "source": [
        "my own work.........."
      ]
    },
    {
      "cell_type": "code",
      "metadata": {
        "id": "FzE9OdoTZxUM",
        "colab_type": "code",
        "colab": {
          "base_uri": "https://localhost:8080/",
          "height": 51
        },
        "outputId": "4caffb1a-15cf-420f-86bf-9dcbeaea5b93"
      },
      "source": [
        "# Program to take the input string from the user.\n",
        "\n",
        "name = input(\"What is your name? \")\n",
        "type(name)"
      ],
      "execution_count": 43,
      "outputs": [
        {
          "output_type": "stream",
          "text": [
            "What is your name? shivan\n"
          ],
          "name": "stdout"
        },
        {
          "output_type": "execute_result",
          "data": {
            "text/plain": [
              "str"
            ]
          },
          "metadata": {
            "tags": []
          },
          "execution_count": 43
        }
      ]
    },
    {
      "cell_type": "code",
      "metadata": {
        "id": "79iBF4XyZxUV",
        "colab_type": "code",
        "colab": {
          "base_uri": "https://localhost:8080/",
          "height": 68
        },
        "outputId": "a4a352e0-4e30-4473-b744-332ecf34ac62"
      },
      "source": [
        "# Program to read integers from user\n",
        "\n",
        "age = input(\"What is your age? \")\n",
        "print (\"Your age is: \", age)\n",
        "type(age)"
      ],
      "execution_count": 44,
      "outputs": [
        {
          "output_type": "stream",
          "text": [
            "What is your age? 22\n",
            "Your age is:  22\n"
          ],
          "name": "stdout"
        },
        {
          "output_type": "execute_result",
          "data": {
            "text/plain": [
              "str"
            ]
          },
          "metadata": {
            "tags": []
          },
          "execution_count": 44
        }
      ]
    },
    {
      "cell_type": "code",
      "metadata": {
        "id": "uZU977GYZxUf",
        "colab_type": "code",
        "colab": {
          "base_uri": "https://localhost:8080/",
          "height": 85
        },
        "outputId": "0b8baace-b38e-4792-863a-db8e4b34bd72"
      },
      "source": [
        "# Let's have one more example\n",
        "\n",
        "name = input(\"What is your name? \")\n",
        "print (\" It was nice talking you \" + name + \"!\")\n",
        "age = input(\"Enter your age? \")\n",
        "print(\"Hey, you are already \" + age + \" years old, \" + name + \"!\")\n"
      ],
      "execution_count": 45,
      "outputs": [
        {
          "output_type": "stream",
          "text": [
            "What is your name? shivan\n",
            " It was nice talking you shivan!\n",
            "Enter your age? 21\n",
            "Hey, you are already 21 years old, shivan!\n"
          ],
          "name": "stdout"
        }
      ]
    },
    {
      "cell_type": "markdown",
      "metadata": {
        "id": "KvnRslXLbGU9",
        "colab_type": "text"
      },
      "source": [
        "**Great Job Shivan!**"
      ]
    }
  ]
}